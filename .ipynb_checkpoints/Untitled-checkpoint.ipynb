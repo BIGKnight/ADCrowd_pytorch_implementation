{
 "cells": [
  {
   "cell_type": "code",
   "execution_count": null,
   "metadata": {},
   "outputs": [],
   "source": [
    "from PIL import Image\n",
    "import torch\n",
    "import torch.nn as nn\n",
    "import torchvision.models as models\n",
    "import matplotlib.pyplot as plt\n",
    "import sys\n",
    "import numpy as np\n",
    "import random\n",
    "from utils import GroundTruthProcess\n",
    "from DME_deformable import DMENet\n",
    "from config import DefaultConfig\n",
    "import torch.cuda as torch_cuda\n",
    "from torchvision import datasets, transforms\n",
    "from data_process.DatasetConstructor import DatasetConstructor\n",
    "import metrics\n",
    "MSE = 10240000\n",
    "MAE = 10240000\n",
    "%matplotlib inline"
   ]
  },
  {
   "cell_type": "code",
   "execution_count": null,
   "metadata": {},
   "outputs": [
    {
     "name": "stderr",
     "output_type": "stream",
     "text": [
      "/home/zzn/anaconda3/envs/pytorch/lib/python3.6/site-packages/matplotlib/pyplot.py:514: RuntimeWarning: More than 20 figures have been opened. Figures created through the pyplot interface (`matplotlib.pyplot.figure`) are retained until explicitly closed and may consume too much memory. (To control this warning, see the rcParam `figure.max_open_warning`).\n",
      "  max_open_warning, RuntimeWarning)\n"
     ]
    }
   ],
   "source": [
    "img_dir = \"/home/zzn/part_B_final/train_data/images\"\n",
    "gt_dir = \"/home/zzn/part_B_final/train_data/gt_map\"\n",
    "\n",
    "batch_dataset = DatasetConstructor(img_dir, gt_dir, 380)\n",
    "train_loader = torch.utils.data.DataLoader(dataset=batch_dataset, batch_size=1)\n",
    "for img, gt_map in train_loader:\n",
    "    img = img.view(-1, 3, 600, 800).permute(0, 2, 3, 1)\n",
    "    gt_map = gt_map.view(-1, 1, 600, 800).permute(0, 2, 3, 1)\n",
    "    for i in range(5):\n",
    "        figure, (origin, gt_density_map) = plt.subplots(1, 2, figsize=(20, 4))\n",
    "        origin.imshow(img[i].numpy())\n",
    "        origin.set_title('Origin Image')\n",
    "    exit()\n",
    "        "
   ]
  }
 ],
 "metadata": {
  "kernelspec": {
   "display_name": "pytorch_env",
   "language": "python",
   "name": "pytorch_env"
  },
  "language_info": {
   "codemirror_mode": {
    "name": "ipython",
    "version": 3
   },
   "file_extension": ".py",
   "mimetype": "text/x-python",
   "name": "python",
   "nbconvert_exporter": "python",
   "pygments_lexer": "ipython3",
   "version": "3.6.8"
  }
 },
 "nbformat": 4,
 "nbformat_minor": 2
}
