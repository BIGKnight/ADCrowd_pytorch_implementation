{
 "cells": [
  {
   "cell_type": "code",
   "execution_count": 1,
   "metadata": {},
   "outputs": [],
   "source": [
    "import torch\n",
    "import torch.nn as nn\n",
    "import torchvision.models as models\n",
    "import matplotlib.pyplot as plt\n",
    "import sys\n",
    "import numpy as np\n",
    "import random\n",
    "from utils import GroundTruthProcess\n",
    "from utils import NCHW_to_NHWC_np\n",
    "from utils import NHWC_to_NCHW_np\n",
    "from DME_deformable import DMENet\n",
    "from config import DefaultConfig\n",
    "import torch.cuda as torch_cudab\n",
    "import metrics\n",
    "%matplotlib inline"
   ]
  },
  {
   "cell_type": "code",
   "execution_count": 2,
   "metadata": {},
   "outputs": [],
   "source": [
    "# obtain the gpu device\n",
    "assert torch.cuda.is_available()\n",
    "cuda_device = torch.device(\"cuda\")  # device object representing GPU\n",
    "config = DefaultConfig()"
   ]
  },
  {
   "cell_type": "code",
   "execution_count": 3,
   "metadata": {},
   "outputs": [],
   "source": [
    "image_test_data = NHWC_to_NCHW_np(np.load(config.test_data_path))\n",
    "gt_test_data = NHWC_to_NCHW_np(np.load(config.test_gt_path))\n",
    "length = len(image_test_data)\n",
    "mae_metrics = []\n",
    "mse_metrics = []"
   ]
  },
  {
   "cell_type": "code",
   "execution_count": 4,
   "metadata": {},
   "outputs": [],
   "source": [
    "net = torch.load(config.model_save_path).to(cuda_device)\n",
    "net.eval()\n",
    "\n",
    "gt_process_model = GroundTruthProcess(1, 1, 8).to(cuda_device)\n",
    "ae_batch = metrics.AEBatch().to(cuda_device)\n",
    "se_batch = metrics.SEBatch().to(cuda_device)"
   ]
  },
  {
   "cell_type": "code",
   "execution_count": 7,
   "metadata": {},
   "outputs": [
    {
     "ename": "AttributeError",
     "evalue": "'numpy.ndarray' object has no attribute 'append'",
     "traceback": [
      "\u001b[0;31m---------------------------------------------------------------------------\u001b[0m",
      "\u001b[0;31mAttributeError\u001b[0m                            Traceback (most recent call last)",
      "\u001b[0;32m<ipython-input-7-f3ca7397e545>\u001b[0m in \u001b[0;36m<module>\u001b[0;34m\u001b[0m\n\u001b[1;32m      7\u001b[0m     \u001b[0mbatch_ae\u001b[0m \u001b[0;34m=\u001b[0m \u001b[0mae_batch\u001b[0m\u001b[0;34m(\u001b[0m\u001b[0mpredict_predict_map\u001b[0m\u001b[0;34m,\u001b[0m \u001b[0mpredict_gt_map\u001b[0m\u001b[0;34m)\u001b[0m\u001b[0;34m.\u001b[0m\u001b[0mdata\u001b[0m\u001b[0;34m.\u001b[0m\u001b[0mcpu\u001b[0m\u001b[0;34m(\u001b[0m\u001b[0;34m)\u001b[0m\u001b[0;34m.\u001b[0m\u001b[0mnumpy\u001b[0m\u001b[0;34m(\u001b[0m\u001b[0;34m)\u001b[0m\u001b[0;34m\u001b[0m\u001b[0;34m\u001b[0m\u001b[0m\n\u001b[1;32m      8\u001b[0m     \u001b[0mbatch_se\u001b[0m \u001b[0;34m=\u001b[0m \u001b[0mse_batch\u001b[0m\u001b[0;34m(\u001b[0m\u001b[0mpredict_predict_map\u001b[0m\u001b[0;34m,\u001b[0m \u001b[0mpredict_gt_map\u001b[0m\u001b[0;34m)\u001b[0m\u001b[0;34m.\u001b[0m\u001b[0mdata\u001b[0m\u001b[0;34m.\u001b[0m\u001b[0mcpu\u001b[0m\u001b[0;34m(\u001b[0m\u001b[0;34m)\u001b[0m\u001b[0;34m.\u001b[0m\u001b[0mnumpy\u001b[0m\u001b[0;34m(\u001b[0m\u001b[0;34m)\u001b[0m\u001b[0;34m\u001b[0m\u001b[0;34m\u001b[0m\u001b[0m\n\u001b[0;32m----> 9\u001b[0;31m     \u001b[0mmae_metrics\u001b[0m\u001b[0;34m.\u001b[0m\u001b[0mappend\u001b[0m\u001b[0;34m(\u001b[0m\u001b[0mbatch_ae\u001b[0m\u001b[0;34m)\u001b[0m\u001b[0;34m\u001b[0m\u001b[0;34m\u001b[0m\u001b[0m\n\u001b[0m\u001b[1;32m     10\u001b[0m     \u001b[0mmse_metrics\u001b[0m\u001b[0;34m.\u001b[0m\u001b[0mappend\u001b[0m\u001b[0;34m(\u001b[0m\u001b[0mbatch_se\u001b[0m\u001b[0;34m)\u001b[0m\u001b[0;34m\u001b[0m\u001b[0;34m\u001b[0m\u001b[0m\n\u001b[1;32m     11\u001b[0m     \u001b[0;31m# to numpy\u001b[0m\u001b[0;34m\u001b[0m\u001b[0;34m\u001b[0m\u001b[0;34m\u001b[0m\u001b[0m\n",
      "\u001b[0;31mAttributeError\u001b[0m: 'numpy.ndarray' object has no attribute 'append'"
     ],
     "output_type": "error"
    }
   ],
   "source": [
    "for i in range(length):\n",
    "    if config.use_gpu:\n",
    "        predict_x = torch.FloatTensor(image_test_data[i:i + 1]).cuda()\n",
    "        predict_gt = torch.FloatTensor(gt_test_data[i:i + 1]).cuda()\n",
    "    predict_predict_map = net(predict_x)\n",
    "    predict_gt_map = gt_process_model(predict_gt)\n",
    "    batch_ae = ae_batch(predict_predict_map, predict_gt_map).data.cpu().numpy()\n",
    "    batch_se = se_batch(predict_predict_map, predict_gt_map).data.cpu().numpy()\n",
    "    mae_metrics.append(batch_ae)\n",
    "    mse_metrics.append(batch_se)\n",
    "    # to numpy\n",
    "    numpy_predict_map = predict_predict_map.data.cpu().numpy()\n",
    "    numpy_gt_map = predict_gt_map.data.cpu().numpy()\n",
    "    \n",
    "    # show current prediction\n",
    "    figure, (origin, dm_gt, dm_pred) = plt.subplots(1, 3, figsize=(20, 4))\n",
    "    origin.imshow(np.squeeze(NCHW_to_NHWC_np(image_test_data[i:i+1])))\n",
    "    origin.set_title('Origin Image')\n",
    "    dm_gt.imshow(np.squeeze(NCHW_to_NHWC_np(numpy_gt_map)), cmap=plt.cm.jet)\n",
    "    dm_gt.set_title('ground_truth')\n",
    "    dm_pred.imshow(np.squeeze(NCHW_to_NHWC_np(numpy_predict_map)), cmap=plt.cm.jet)\n",
    "    dm_pred.set_title('prediction')\n",
    "    plt.suptitle('The ' + str(i + 1) + 'st images\\'prediction')\n",
    "    plt.show()\n",
    "    sys.stdout.write('The grount truth crowd number is:{}, and the predicting number is:{}'.format(np.sum(numpy_gt_map), np.sum(numpy_predict_map)))\n",
    "    sys.stdout.flush"
   ]
  },
  {
   "cell_type": "code",
   "execution_count": 6,
   "metadata": {},
   "outputs": [
    {
     "name": "stdout",
     "output_type": "stream",
     "text": [
      "MAE: 21.86331 MSE: 31.934145\n"
     ]
    }
   ],
   "source": [
    "mae_metrics = np.reshape(mae_metrics, [-1])\n",
    "mse_metrics = np.reshape(mse_metrics, [-1])\n",
    "MAE = np.mean(mae_metrics)\n",
    "MSE = np.sqrt(np.mean(mse_metrics))\n",
    "print('MAE:', MAE, 'MSE:', MSE)"
   ]
  }
 ],
 "metadata": {
  "kernelspec": {
   "display_name": "pytorch_env",
   "language": "python",
   "name": "pytorch_env"
  },
  "language_info": {
   "codemirror_mode": {
    "name": "ipython",
    "version": 3
   },
   "file_extension": ".py",
   "mimetype": "text/x-python",
   "name": "python",
   "nbconvert_exporter": "python",
   "pygments_lexer": "ipython3",
   "version": "3.6.8"
  }
 },
 "nbformat": 4,
 "nbformat_minor": 2
}
